{
 "cells": [
  {
   "cell_type": "code",
   "execution_count": 51,
   "id": "f0d66103",
   "metadata": {},
   "outputs": [],
   "source": [
    "import requests\n",
    "import random\n",
    "import json\n",
    "\n",
    "base_url = \"http://localhost:8081\"\n",
    "\n",
    "resp = requests.get(base_url)\n",
    "assert resp.status_code == 404\n",
    "assert resp.json()[\"status\"] == 404\n",
    "assert resp.json()[\"error\"] == \"Not Found\"\n"
   ]
  },
  {
   "cell_type": "code",
   "execution_count": 52,
   "id": "fc57f642",
   "metadata": {},
   "outputs": [],
   "source": [
    "\n",
    "resp = requests.get(\"%s/api/docs/swagger.json\"%base_url)\n",
    "assert resp.status_code == 200\n",
    "assert resp.json()[\"swagger\"] == \"2.0\"\n",
    "assert resp.json()[\"paths\"] != None\n",
    "\n",
    "swaggerJson = resp.json()\n",
    "swaggerJson[\"paths\"].keys()\n",
    "\n",
    "jsonUrl = [f for f in swaggerJson[\"paths\"].keys() if \".json\" in f][0]\n",
    "jsonUrl\n",
    "\n",
    "resp = requests.get(\"%s%s\"%(base_url, jsonUrl))\n",
    "assert resp.status_code == 200\n"
   ]
  },
  {
   "cell_type": "code",
   "execution_count": 53,
   "id": "0e3b1059",
   "metadata": {},
   "outputs": [
    {
     "data": {
      "text/plain": [
       "{'TrainingCertificate': {'$id': '#/properties/TrainingCertificate',\n",
       "  'type': 'object',\n",
       "  'title': 'The TrainingCertificate Schema',\n",
       "  'required': ['name', 'contact'],\n",
       "  'properties': {'name': {'type': 'string'},\n",
       "   'trainingTitle': {'type': 'string'},\n",
       "   'contact': {'type': 'string'},\n",
       "   'date': {'type': 'string', 'format': 'date'},\n",
       "   'note': {'type': 'string'}}}}"
      ]
     },
     "execution_count": 53,
     "metadata": {},
     "output_type": "execute_result"
    }
   ],
   "source": [
    "resp.json()"
   ]
  },
  {
   "cell_type": "code",
   "execution_count": 54,
   "id": "3343a6fe",
   "metadata": {},
   "outputs": [
    {
     "name": "stdout",
     "output_type": "stream",
     "text": [
      "Available entities  ['TrainingCertificate']\n"
     ]
    }
   ],
   "source": [
    "entities = list(resp.json().keys())\n",
    "print(\"Available entities \", entities)"
   ]
  },
  {
   "cell_type": "code",
   "execution_count": 55,
   "id": "41559bae",
   "metadata": {},
   "outputs": [
    {
     "name": "stdout",
     "output_type": "stream",
     "text": [
      "Using entity TrainingCertificate\n"
     ]
    }
   ],
   "source": [
    "entity_name=entities[0]\n",
    "print(\"Using entity %s\"%entity_name)\n"
   ]
  },
  {
   "cell_type": "code",
   "execution_count": 57,
   "id": "161ca6b9",
   "metadata": {},
   "outputs": [],
   "source": [
    "userId =str(random.randint(1e10,1e11))\n",
    "resp = requests.post(\"%s%s\"%(base_url, '/api/v1/%s'%entity_name), json={\n",
    "    \"name\":\"Sunbird Learner\", \n",
    "    \"contact\": userId, \n",
    "    \"trainingTitle\":\"Sunbird RC Certificate Module\"\n",
    "    \n",
    "})\n",
    "assert resp.status_code == 200 or print (resp.json())\n",
    "idx = resp.json()[\"result\"][entity_name][\"osid\"]\n"
   ]
  },
  {
   "cell_type": "code",
   "execution_count": 58,
   "id": "e73084c3",
   "metadata": {},
   "outputs": [
    {
     "data": {
      "text/plain": [
       "{'id': 'sunbird-rc.registry.create',\n",
       " 'ver': '1.0',\n",
       " 'ets': 1646652397818,\n",
       " 'params': {'resmsgid': '',\n",
       "  'msgid': '0667696d-896f-4064-8686-c4b714fe5b26',\n",
       "  'err': '',\n",
       "  'status': 'SUCCESSFUL',\n",
       "  'errmsg': ''},\n",
       " 'responseCode': 'OK',\n",
       " 'result': {'TrainingCertificate': {'osid': '1-7c10c85e-fcc1-4e18-8b06-c66aa5148e4d'}}}"
      ]
     },
     "execution_count": 58,
     "metadata": {},
     "output_type": "execute_result"
    }
   ],
   "source": [
    "resp.json()\n"
   ]
  },
  {
   "cell_type": "code",
   "execution_count": 59,
   "id": "345cfbf2",
   "metadata": {},
   "outputs": [
    {
     "name": "stdout",
     "output_type": "stream",
     "text": [
      "{'id': 'sunbird-rc.registry.create', 'ver': '1.0', 'ets': 1646652397818, 'params': {'resmsgid': '', 'msgid': '0667696d-896f-4064-8686-c4b714fe5b26', 'err': '', 'status': 'SUCCESSFUL', 'errmsg': ''}, 'responseCode': 'OK', 'result': {'TrainingCertificate': {'osid': '1-7c10c85e-fcc1-4e18-8b06-c66aa5148e4d'}}}\n"
     ]
    },
    {
     "data": {
      "text/plain": [
       "(200, '70598995414')"
      ]
     },
     "execution_count": 59,
     "metadata": {},
     "output_type": "execute_result"
    }
   ],
   "source": [
    "print(resp.json())\n",
    "resp.status_code, userId\n"
   ]
  },
  {
   "cell_type": "code",
   "execution_count": 60,
   "id": "e880f599",
   "metadata": {},
   "outputs": [
    {
     "name": "stdout",
     "output_type": "stream",
     "text": [
      "{\"@context\": [\"https://www.w3.org/2018/credentials/v1\", \"https://gist.githubusercontent.com/dileepbapat/eb932596a70f75016411cc871113a789/raw/498e5af1d94784f114b32c1ab827f951a8a24def/skill\"], \"type\": [\"VerifiableCredential\"], \"issuanceDate\": \"2021-08-27T10:57:57.237Z\", \"credentialSubject\": {\"type\": \"Person\", \"name\": \"Sunbird Learner\", \"trainedOn\": \"Sunbird RC Certificate Module\"}, \"issuer\": \"did:web:sunbirdrc.dev/vc/skill\", \"proof\": {\"type\": \"Ed25519Signature2018\", \"created\": \"2022-03-07T11:26:37Z\", \"verificationMethod\": \"did:india\", \"proofPurpose\": \"assertionMethod\", \"jws\": \"eyJhbGciOiJFZERTQSIsImI2NCI6ZmFsc2UsImNyaXQiOlsiYjY0Il19..Voowx39BHup_ZNmOw5flbTwM2cNX36WPkRIb7058OUZ6ipMgs5f6wah297pUnBZIbxKfTcKaIKOvQsNUVe31AQ\"}}\n"
     ]
    }
   ],
   "source": [
    "resp = requests.get(\"%s/api/v1/%s/%s\"%(base_url, entity_name, idx), headers={\"Accept\":\"application/vc+ld+json\"})\n",
    "print(json.dumps(resp.json()))\n",
    "assert resp.json()[\"proof\"][\"type\"] == \"Ed25519Signature2018\"\n"
   ]
  },
  {
   "cell_type": "code",
   "execution_count": 44,
   "id": "932efa6f",
   "metadata": {},
   "outputs": [],
   "source": [
    "resp = requests.get(\"%s/api/v1/%s/%s\"%(base_url, entity_name, idx), headers={\"Accept\":\"application/pdf\"})\n"
   ]
  },
  {
   "cell_type": "code",
   "execution_count": 45,
   "id": "f6854518",
   "metadata": {},
   "outputs": [],
   "source": [
    "resp.status_code, resp.content\n",
    "\n",
    "assert resp.content[:5].decode().startswith(\"%PDF\")\n",
    "with open('sample.pdf', 'wb') as f:\n",
    "    f.write(resp.content)\n",
    "    "
   ]
  },
  {
   "cell_type": "code",
   "execution_count": 46,
   "id": "3fdae280",
   "metadata": {},
   "outputs": [
    {
     "data": {
      "text/plain": [
       "[]"
      ]
     },
     "execution_count": 46,
     "metadata": {},
     "output_type": "execute_result"
    }
   ],
   "source": [
    "%system open 'sample.pdf'\n"
   ]
  },
  {
   "cell_type": "code",
   "execution_count": 47,
   "id": "66ade90a",
   "metadata": {},
   "outputs": [
    {
     "data": {
      "text/plain": [
       "[]"
      ]
     },
     "execution_count": 47,
     "metadata": {},
     "output_type": "execute_result"
    }
   ],
   "source": [
    "resp = requests.get(\"%s/api/v1/%s/%s\"%(base_url, entity_name, idx), headers={\"Accept\":\"text/html\"})\n",
    "resp.status_code, resp.content\n",
    "\n",
    "assert resp.content[:5].decode().startswith(\"<html\")\n",
    "with open('sample.html', 'wb') as f:\n",
    "    f.write(resp.content)\n",
    "%system open 'sample.html'\n"
   ]
  },
  {
   "cell_type": "code",
   "execution_count": 48,
   "id": "7d546807",
   "metadata": {},
   "outputs": [
    {
     "data": {
      "text/plain": [
       "[]"
      ]
     },
     "execution_count": 48,
     "metadata": {},
     "output_type": "execute_result"
    }
   ],
   "source": [
    "resp = requests.get(\"%s/api/v1/%s/%s\"%(base_url, entity_name, idx), headers={\"Accept\":\"image/svg+xml\"})\n",
    "resp.status_code, resp.content\n",
    "\n",
    "assert resp.content.decode().find(\"<svg\") != -1\n",
    "with open('sample.svg', 'wb') as f:\n",
    "    f.write(resp.content)\n",
    "%system open 'sample.svg'"
   ]
  },
  {
   "cell_type": "code",
   "execution_count": null,
   "id": "ba6dd127",
   "metadata": {},
   "outputs": [],
   "source": []
  },
  {
   "cell_type": "markdown",
   "id": "daf81eb1",
   "metadata": {},
   "source": [
    "# generate certificate by external templates"
   ]
  },
  {
   "cell_type": "code",
   "execution_count": 49,
   "id": "e92fc1bc",
   "metadata": {},
   "outputs": [
    {
     "data": {
      "text/plain": [
       "[]"
      ]
     },
     "execution_count": 49,
     "metadata": {},
     "output_type": "execute_result"
    }
   ],
   "source": [
    "resp = requests.get(\"%s/api/v1/%s/%s\"%(base_url, entity_name, idx), headers={\"Accept\":\"application/pdf\", \"template\": \"https://raw.githubusercontent.com/dileepbapat/ref-sunbirdrc-certificate/main/schemas/templates/TrainingCertificate.html\"})\n",
    "resp.status_code, resp.content\n",
    "\n",
    "assert resp.content[:5].decode().startswith(\"%PDF\")\n",
    "with open('sample_external.pdf', 'wb') as f:\n",
    "    f.write(resp.content)\n",
    "%system open 'sample_external.pdf'\n"
   ]
  },
  {
   "cell_type": "markdown",
   "id": "8ffd2fb7",
   "metadata": {},
   "source": [
    "# delete certificate"
   ]
  },
  {
   "cell_type": "code",
   "execution_count": 50,
   "id": "3f33479a",
   "metadata": {},
   "outputs": [
    {
     "name": "stdout",
     "output_type": "stream",
     "text": [
      "200\n",
      "{\"id\": \"sunbird-rc.registry.read\", \"ver\": \"1.0\", \"ets\": 1646624071473, \"params\": {\"resmsgid\": \"\", \"msgid\": \"45967509-87eb-4dc4-997d-777c251dbc00\", \"err\": \"\", \"status\": \"UNSUCCESSFUL\", \"errmsg\": \"entity status is inactive\"}, \"responseCode\": \"OK\"}\n"
     ]
    }
   ],
   "source": [
    "esp = requests.delete(\"%s/api/v1/%s/%s\"%(base_url, entity_name, idx), headers={\"Accept\":\"application/json\"})\n",
    "print(resp.status_code)\n",
    "assert resp.status_code == 200\n",
    "resp = requests.get(\"%s/api/v1/%s/%s\"%(base_url, entity_name, idx), headers={\"Accept\":\"application/json\"})\n",
    "print(json.dumps(resp.json()))\n",
    "assert resp.json()[\"params\"][\"errmsg\"] == \"entity status is inactive\"\n"
   ]
  },
  {
   "cell_type": "markdown",
   "id": "d5d85e9c",
   "metadata": {},
   "source": [
    "# generate credentials with external template"
   ]
  },
  {
   "cell_type": "code",
   "execution_count": 90,
   "id": "5b802f08",
   "metadata": {},
   "outputs": [
    {
     "name": "stdout",
     "output_type": "stream",
     "text": [
      "{'id': 'sunbird-rc.registry.create', 'ver': '1.0', 'ets': 1646657562144, 'params': {'resmsgid': '', 'msgid': '78cc1584-93dc-41ec-bac7-3dd960f812df', 'err': '', 'status': 'SUCCESSFUL', 'errmsg': ''}, 'responseCode': 'OK', 'result': {'SkillCertificate': {'osid': '1-695be36f-939b-4e0d-bf89-969eff6f2261'}}}\n"
     ]
    }
   ],
   "source": [
    "userId =str(random.randint(1e10,1e11))\n",
    "resp = requests.post(\"%s%s\"%(base_url, '/api/v1/SkillCertificate'), json={\n",
    "    \"name\":\"Sunbird Learner\", \n",
    "    \"contact\": userId, \n",
    "    \"trainingTitle\":\"Sunbird RC Certificate Module\",\n",
    "    \"skills\": [\n",
    "        {\n",
    "            \"skill\": \"computer training\",\n",
    "            \"certifiedOn\": \"12-12-2000\"\n",
    "        },\n",
    "        {\n",
    "            \"skill\": \"network training\",\n",
    "            \"certifiedOn\": \"12-11-2000\"\n",
    "        }\n",
    "\n",
    "    ]\n",
    "    \n",
    "})\n",
    "assert resp.status_code == 200 or print (resp.json())\n",
    "idx = resp.json()[\"result\"][\"SkillCertificate\"][\"osid\"]\n",
    "print(resp.json())"
   ]
  },
  {
   "cell_type": "code",
   "execution_count": 91,
   "id": "6240b8ed",
   "metadata": {},
   "outputs": [
    {
     "name": "stdout",
     "output_type": "stream",
     "text": [
      "{\"@context\": [\"https://www.w3.org/2018/credentials/v1\", {\"@context\": {\"@version\": 1.1, \"@protected\": true, \"SkillCertificate\": {\"@id\": \"https://github.com/sunbird-specs/vc-specs#SkillCertificate\", \"@context\": {\"id\": \"@id\", \"@version\": 1.1, \"@protected\": true, \"skills\": \"schema:Text\"}}, \"Person\": {\"@id\": \"https://github.com/sunbird-specs/vc-specs#Person\", \"@context\": {\"name\": \"schema:Text\"}}, \"trainedOn\": {\"@id\": \"https://github.com/sunbird-specs/vc-specs#trainedOn\", \"@context\": {\"name\": \"schema:Text\"}}, \"skills\": {\"@id\": \"https://github.com/sunbird-specs/vc-specs#skills\", \"@container\": \"@list\"}}}], \"type\": [\"VerifiableCredential\"], \"issuanceDate\": \"2021-08-27T10:57:57.237Z\", \"credentialSubject\": {\"type\": \"Person\", \"name\": \"Sunbird Learner\", \"trainedOn\": \"Sunbird RC Certificate Module\", \"skills\": [\"computer training\", \"network training\", \"\"]}, \"issuer\": \"did:web:sunbirdrc.dev/vc/skill\", \"proof\": {\"type\": \"Ed25519Signature2018\", \"created\": \"2022-03-07T12:52:42Z\", \"verificationMethod\": \"did:india\", \"proofPurpose\": \"assertionMethod\", \"jws\": \"eyJhbGciOiJFZERTQSIsImI2NCI6ZmFsc2UsImNyaXQiOlsiYjY0Il19..J09Rgie_3lltaQyUq0QCXwsgUHZPO9WSNB5ZLdgFdACKjzZkc7l_8zn3opIRmM9zJyYv4ddRvE_GkFwZ1jIADQ\"}}\n"
     ]
    }
   ],
   "source": [
    "resp = requests.get(\"%s/api/v1/%s/%s\"%(base_url, 'SkillCertificate', idx), headers={\"Accept\":\"application/vc+ld+json\"})\n",
    "print(json.dumps(resp.json()))\n",
    "assert resp.json()[\"proof\"][\"type\"] == \"Ed25519Signature2018\"\n"
   ]
  },
  {
   "cell_type": "code",
   "execution_count": 108,
   "id": "b0fdb33b",
   "metadata": {},
   "outputs": [
    {
     "name": "stdout",
     "output_type": "stream",
     "text": [
      "<Response [200]>\n"
     ]
    },
    {
     "data": {
      "text/plain": [
       "[]"
      ]
     },
     "execution_count": 108,
     "metadata": {},
     "output_type": "execute_result"
    }
   ],
   "source": [
    "resp = requests.get(\"%s/api/v1/%s/%s\"%(base_url, 'SkillCertificate', idx), headers={\"Accept\":\"application/pdf\", \"template\": \"http://localhost:63342/sunbird-rc/registry/public/_schemas/templates/SkillCertificate.html?_ijt=qu4536mc0j899963igug2gitf0\"})\n",
    "\n",
    "resp.status_code, resp.content\n",
    "print(resp)\n",
    "assert resp.content[:5].decode().startswith(\"%PDF\")\n",
    "with open('sample1.pdf', 'wb') as f:\n",
    "    f.write(resp.content)\n",
    "    \n",
    "%system open 'sample1.pdf'\n"
   ]
  },
  {
   "cell_type": "code",
   "execution_count": null,
   "id": "c2d53e0d",
   "metadata": {},
   "outputs": [],
   "source": []
  }
 ],
 "metadata": {
  "kernelspec": {
   "display_name": "Python 3 (ipykernel)",
   "language": "python",
   "name": "python3"
  },
  "language_info": {
   "codemirror_mode": {
    "name": "ipython",
    "version": 3
   },
   "file_extension": ".py",
   "mimetype": "text/x-python",
   "name": "python",
   "nbconvert_exporter": "python",
   "pygments_lexer": "ipython3",
   "version": "3.9.5"
  }
 },
 "nbformat": 4,
 "nbformat_minor": 5
}
