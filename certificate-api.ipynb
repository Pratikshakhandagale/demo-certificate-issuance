{
 "cells": [
  {
   "cell_type": "code",
   "execution_count": 35,
   "id": "f0d66103",
   "metadata": {},
   "outputs": [],
   "source": [
    "import requests\n",
    "import random\n",
    "import json\n",
    "\n",
    "base_url = \"http://localhost:8081\"\n",
    "\n",
    "resp = requests.get(base_url)\n",
    "assert resp.status_code == 404\n",
    "assert resp.json()[\"status\"] == 404\n",
    "assert resp.json()[\"error\"] == \"Not Found\"\n"
   ]
  },
  {
   "cell_type": "code",
   "execution_count": 36,
   "id": "fc57f642",
   "metadata": {},
   "outputs": [],
   "source": [
    "\n",
    "resp = requests.get(\"%s/api/docs/swagger.json\"%base_url)\n",
    "assert resp.status_code == 200\n",
    "assert resp.json()[\"swagger\"] == \"2.0\"\n",
    "assert resp.json()[\"paths\"] != None\n",
    "\n",
    "swaggerJson = resp.json()\n",
    "swaggerJson[\"paths\"].keys()\n",
    "\n",
    "jsonUrl = [f for f in swaggerJson[\"paths\"].keys() if \".json\" in f][0]\n",
    "jsonUrl\n",
    "\n",
    "resp = requests.get(\"%s%s\"%(base_url, jsonUrl))\n",
    "assert resp.status_code == 200\n"
   ]
  },
  {
   "cell_type": "code",
   "execution_count": 37,
   "id": "0e3b1059",
   "metadata": {},
   "outputs": [
    {
     "data": {
      "text/plain": [
       "{'TrainingCertificate': {'$id': '#/properties/TrainingCertificate',\n",
       "  'type': 'object',\n",
       "  'title': 'The TrainingCertificate Schema',\n",
       "  'required': ['name', 'contact'],\n",
       "  'properties': {'name': {'type': 'string'},\n",
       "   'trainingTitle': {'type': 'string'},\n",
       "   'contact': {'type': 'string'},\n",
       "   'date': {'type': 'string', 'format': 'date'},\n",
       "   'note': {'type': 'string'}}}}"
      ]
     },
     "execution_count": 37,
     "metadata": {},
     "output_type": "execute_result"
    }
   ],
   "source": [
    "resp.json()"
   ]
  },
  {
   "cell_type": "code",
   "execution_count": 38,
   "id": "3343a6fe",
   "metadata": {},
   "outputs": [
    {
     "name": "stdout",
     "output_type": "stream",
     "text": [
      "Available entities  ['TrainingCertificate']\n"
     ]
    }
   ],
   "source": [
    "entities = list(resp.json().keys())\n",
    "print(\"Available entities \", entities)"
   ]
  },
  {
   "cell_type": "code",
   "execution_count": 39,
   "id": "41559bae",
   "metadata": {},
   "outputs": [
    {
     "name": "stdout",
     "output_type": "stream",
     "text": [
      "Using entity TrainingCertificate\n"
     ]
    }
   ],
   "source": [
    "entity_name=entities[0]\n",
    "print(\"Using entity %s\"%entity_name)\n"
   ]
  },
  {
   "cell_type": "code",
   "execution_count": 40,
   "id": "161ca6b9",
   "metadata": {},
   "outputs": [],
   "source": [
    "userId =str(random.randint(1e10,1e11))\n",
    "resp = requests.post(\"%s%s\"%(base_url, '/api/v1/%s'%entity_name), json={\n",
    "    \"name\":\"Sunbird Learner\", \n",
    "    \"contact\": userId, \n",
    "    \"trainingTitle\":\"Sunbird RC Certificate Module\"\n",
    "    \n",
    "})\n",
    "assert resp.status_code == 200 or print (resp.json())\n",
    "idx = resp.json()[\"result\"][entity_name][\"osid\"]\n"
   ]
  },
  {
   "cell_type": "code",
   "execution_count": 41,
   "id": "e73084c3",
   "metadata": {},
   "outputs": [
    {
     "data": {
      "text/plain": [
       "{'id': 'sunbird-rc.registry.create',\n",
       " 'ver': '1.0',\n",
       " 'ets': 1646624047214,\n",
       " 'params': {'resmsgid': '',\n",
       "  'msgid': '5ab47796-39f2-4970-bd47-4d0233ac0447',\n",
       "  'err': '',\n",
       "  'status': 'SUCCESSFUL',\n",
       "  'errmsg': ''},\n",
       " 'responseCode': 'OK',\n",
       " 'result': {'TrainingCertificate': {'osid': '1-1af86526-6e90-4023-9e25-1d235e921c92'}}}"
      ]
     },
     "execution_count": 41,
     "metadata": {},
     "output_type": "execute_result"
    }
   ],
   "source": [
    "resp.json()\n"
   ]
  },
  {
   "cell_type": "code",
   "execution_count": 42,
   "id": "345cfbf2",
   "metadata": {},
   "outputs": [
    {
     "name": "stdout",
     "output_type": "stream",
     "text": [
      "{'id': 'sunbird-rc.registry.create', 'ver': '1.0', 'ets': 1646624047214, 'params': {'resmsgid': '', 'msgid': '5ab47796-39f2-4970-bd47-4d0233ac0447', 'err': '', 'status': 'SUCCESSFUL', 'errmsg': ''}, 'responseCode': 'OK', 'result': {'TrainingCertificate': {'osid': '1-1af86526-6e90-4023-9e25-1d235e921c92'}}}\n"
     ]
    },
    {
     "data": {
      "text/plain": [
       "(200, '76485114756')"
      ]
     },
     "execution_count": 42,
     "metadata": {},
     "output_type": "execute_result"
    }
   ],
   "source": [
    "print(resp.json())\n",
    "resp.status_code, userId\n"
   ]
  },
  {
   "cell_type": "code",
   "execution_count": 43,
   "id": "e880f599",
   "metadata": {},
   "outputs": [
    {
     "name": "stdout",
     "output_type": "stream",
     "text": [
      "{\"@context\": [\"https://www.w3.org/2018/credentials/v1\", \"https://gist.githubusercontent.com/dileepbapat/eb932596a70f75016411cc871113a789/raw/498e5af1d94784f114b32c1ab827f951a8a24def/skill\"], \"type\": [\"VerifiableCredential\"], \"issuanceDate\": \"2021-08-27T10:57:57.237Z\", \"credentialSubject\": {\"type\": \"Person\", \"name\": \"Sunbird Learner\", \"trainedOn\": \"Sunbird RC Certificate Module\"}, \"issuer\": \"did:web:sunbirdrc.dev/vc/skill\", \"proof\": {\"type\": \"Ed25519Signature2018\", \"created\": \"2022-03-07T03:34:07Z\", \"verificationMethod\": \"did:india\", \"proofPurpose\": \"assertionMethod\", \"jws\": \"eyJhbGciOiJFZERTQSIsImI2NCI6ZmFsc2UsImNyaXQiOlsiYjY0Il19..U0vxsRx4T8Tswh8LG-1RzKXpBRdjcME3U0yvJ5or8cu9uWti45dddPu_Vu4uBtxlWtAMoMWQoqXTwBGD4axKBQ\"}}\n"
     ]
    }
   ],
   "source": [
    "resp = requests.get(\"%s/api/v1/%s/%s\"%(base_url, entity_name, idx), headers={\"Accept\":\"application/vc+ld+json\"})\n",
    "print(json.dumps(resp.json()))\n",
    "assert resp.json()[\"proof\"][\"type\"] == \"Ed25519Signature2018\"\n"
   ]
  },
  {
   "cell_type": "code",
   "execution_count": 44,
   "id": "932efa6f",
   "metadata": {},
   "outputs": [],
   "source": [
    "resp = requests.get(\"%s/api/v1/%s/%s\"%(base_url, entity_name, idx), headers={\"Accept\":\"application/pdf\"})\n"
   ]
  },
  {
   "cell_type": "code",
   "execution_count": 45,
   "id": "f6854518",
   "metadata": {},
   "outputs": [],
   "source": [
    "resp.status_code, resp.content\n",
    "\n",
    "assert resp.content[:5].decode().startswith(\"%PDF\")\n",
    "with open('sample.pdf', 'wb') as f:\n",
    "    f.write(resp.content)\n",
    "    "
   ]
  },
  {
   "cell_type": "code",
   "execution_count": 46,
   "id": "3fdae280",
   "metadata": {},
   "outputs": [
    {
     "data": {
      "text/plain": [
       "[]"
      ]
     },
     "execution_count": 46,
     "metadata": {},
     "output_type": "execute_result"
    }
   ],
   "source": [
    "%system open 'sample.pdf'\n"
   ]
  },
  {
   "cell_type": "code",
   "execution_count": 47,
   "id": "66ade90a",
   "metadata": {},
   "outputs": [
    {
     "data": {
      "text/plain": [
       "[]"
      ]
     },
     "execution_count": 47,
     "metadata": {},
     "output_type": "execute_result"
    }
   ],
   "source": [
    "resp = requests.get(\"%s/api/v1/%s/%s\"%(base_url, entity_name, idx), headers={\"Accept\":\"text/html\"})\n",
    "resp.status_code, resp.content\n",
    "\n",
    "assert resp.content[:5].decode().startswith(\"<html\")\n",
    "with open('sample.html', 'wb') as f:\n",
    "    f.write(resp.content)\n",
    "%system open 'sample.html'\n"
   ]
  },
  {
   "cell_type": "code",
   "execution_count": 48,
   "id": "7d546807",
   "metadata": {},
   "outputs": [
    {
     "data": {
      "text/plain": [
       "[]"
      ]
     },
     "execution_count": 48,
     "metadata": {},
     "output_type": "execute_result"
    }
   ],
   "source": [
    "resp = requests.get(\"%s/api/v1/%s/%s\"%(base_url, entity_name, idx), headers={\"Accept\":\"image/svg+xml\"})\n",
    "resp.status_code, resp.content\n",
    "\n",
    "assert resp.content.decode().find(\"<svg\") != -1\n",
    "with open('sample.svg', 'wb') as f:\n",
    "    f.write(resp.content)\n",
    "%system open 'sample.svg'"
   ]
  },
  {
   "cell_type": "code",
   "execution_count": 26,
   "id": "ba6dd127",
   "metadata": {},
   "outputs": [
    {
     "data": {
      "text/plain": [
       "[]"
      ]
     },
     "execution_count": 26,
     "metadata": {},
     "output_type": "execute_result"
    }
   ],
   "source": []
  },
  {
   "cell_type": "markdown",
   "id": "6af9662c",
   "metadata": {},
   "source": [
    "# generate certificate by external templates"
   ]
  },
  {
   "cell_type": "code",
   "execution_count": 27,
   "id": "0ed87b98",
   "metadata": {},
   "outputs": [
    {
     "data": {
      "text/plain": [
       "[]"
      ]
     },
     "execution_count": 27,
     "metadata": {},
     "output_type": "execute_result"
    }
   ],
   "source": [
    "resp = requests.get(\"%s/api/v1/%s/%s\"%(base_url, entity_name, idx), headers={\"Accept\":\"application/pdf\", \"template\": \"https://raw.githubusercontent.com/dileepbapat/ref-sunbirdrc-certificate/main/schemas/templates/TrainingCertificate.html\"})\n",
    "resp.status_code, resp.content\n",
    "\n",
    "assert resp.content[:5].decode().startswith(\"%PDF\")\n",
    "with open('sample_external.pdf', 'wb') as f:\n",
    "    f.write(resp.content)\n",
    "%system open 'sample_external.pdf'\n"
   ]
  },
  {
   "cell_type": "markdown",
   "id": "e533f52c",
   "metadata": {},
   "source": [
    "# delete certificate"
   ]
  },
  {
   "cell_type": "code",
   "execution_count": 34,
   "id": "8a5a8ba4",
   "metadata": {},
   "outputs": [
    {
     "name": "stdout",
     "output_type": "stream",
     "text": [
      "500\n"
     ]
    },
    {
     "ename": "AssertionError",
     "evalue": "",
     "output_type": "error",
     "traceback": [
      "\u001b[0;31m---------------------------------------------------------------------------\u001b[0m",
      "\u001b[0;31mAssertionError\u001b[0m                            Traceback (most recent call last)",
      "\u001b[0;32m/var/folders/1c/_2dh0xbx1k9fzwx2pwfhgxrr0000gn/T/ipykernel_67572/2916193077.py\u001b[0m in \u001b[0;36m<module>\u001b[0;34m\u001b[0m\n\u001b[1;32m      1\u001b[0m \u001b[0mesp\u001b[0m \u001b[0;34m=\u001b[0m \u001b[0mrequests\u001b[0m\u001b[0;34m.\u001b[0m\u001b[0mdelete\u001b[0m\u001b[0;34m(\u001b[0m\u001b[0;34m\"%s/api/v1/%s/%s\"\u001b[0m\u001b[0;34m%\u001b[0m\u001b[0;34m(\u001b[0m\u001b[0mbase_url\u001b[0m\u001b[0;34m,\u001b[0m \u001b[0mentity_name\u001b[0m\u001b[0;34m,\u001b[0m \u001b[0midx\u001b[0m\u001b[0;34m)\u001b[0m\u001b[0;34m,\u001b[0m \u001b[0mheaders\u001b[0m\u001b[0;34m=\u001b[0m\u001b[0;34m{\u001b[0m\u001b[0;34m\"Accept\"\u001b[0m\u001b[0;34m:\u001b[0m\u001b[0;34m\"application/json\"\u001b[0m\u001b[0;34m}\u001b[0m\u001b[0;34m)\u001b[0m\u001b[0;34m\u001b[0m\u001b[0;34m\u001b[0m\u001b[0m\n\u001b[1;32m      2\u001b[0m \u001b[0mprint\u001b[0m\u001b[0;34m(\u001b[0m\u001b[0mresp\u001b[0m\u001b[0;34m.\u001b[0m\u001b[0mstatus_code\u001b[0m\u001b[0;34m)\u001b[0m\u001b[0;34m\u001b[0m\u001b[0;34m\u001b[0m\u001b[0m\n\u001b[0;32m----> 3\u001b[0;31m \u001b[0;32massert\u001b[0m \u001b[0mresp\u001b[0m\u001b[0;34m.\u001b[0m\u001b[0mstatus_code\u001b[0m \u001b[0;34m==\u001b[0m \u001b[0;36m200\u001b[0m\u001b[0;34m\u001b[0m\u001b[0;34m\u001b[0m\u001b[0m\n\u001b[0m\u001b[1;32m      4\u001b[0m \u001b[0mresp\u001b[0m \u001b[0;34m=\u001b[0m \u001b[0mrequests\u001b[0m\u001b[0;34m.\u001b[0m\u001b[0mget\u001b[0m\u001b[0;34m(\u001b[0m\u001b[0;34m\"%s/api/v1/%s/%s\"\u001b[0m\u001b[0;34m%\u001b[0m\u001b[0;34m(\u001b[0m\u001b[0mbase_url\u001b[0m\u001b[0;34m,\u001b[0m \u001b[0mentity_name\u001b[0m\u001b[0;34m,\u001b[0m \u001b[0midx\u001b[0m\u001b[0;34m)\u001b[0m\u001b[0;34m,\u001b[0m \u001b[0mheaders\u001b[0m\u001b[0;34m=\u001b[0m\u001b[0;34m{\u001b[0m\u001b[0;34m\"Accept\"\u001b[0m\u001b[0;34m:\u001b[0m\u001b[0;34m\"application/json\"\u001b[0m\u001b[0;34m}\u001b[0m\u001b[0;34m)\u001b[0m\u001b[0;34m\u001b[0m\u001b[0;34m\u001b[0m\u001b[0m\n\u001b[1;32m      5\u001b[0m \u001b[0mprint\u001b[0m\u001b[0;34m(\u001b[0m\u001b[0mjson\u001b[0m\u001b[0;34m.\u001b[0m\u001b[0mdumps\u001b[0m\u001b[0;34m(\u001b[0m\u001b[0mresp\u001b[0m\u001b[0;34m.\u001b[0m\u001b[0mjson\u001b[0m\u001b[0;34m(\u001b[0m\u001b[0;34m)\u001b[0m\u001b[0;34m)\u001b[0m\u001b[0;34m)\u001b[0m\u001b[0;34m\u001b[0m\u001b[0;34m\u001b[0m\u001b[0m\n",
      "\u001b[0;31mAssertionError\u001b[0m: "
     ]
    }
   ],
   "source": [
    "esp = requests.delete(\"%s/api/v1/%s/%s\"%(base_url, entity_name, idx), headers={\"Accept\":\"application/json\"})\n",
    "print(resp.status_code)\n",
    "assert resp.status_code == 200\n",
    "resp = requests.get(\"%s/api/v1/%s/%s\"%(base_url, entity_name, idx), headers={\"Accept\":\"application/json\"})\n",
    "print(json.dumps(resp.json()))\n",
    "assert resp.json()[\"params\"][\"errmsg\"] == \"entity status is inactive\"\n"
   ]
  },
  {
   "cell_type": "code",
   "execution_count": null,
   "id": "313bc23c",
   "metadata": {},
   "outputs": [],
   "source": []
  }
 ],
 "metadata": {
  "kernelspec": {
   "display_name": "Python 3 (ipykernel)",
   "language": "python",
   "name": "python3"
  },
  "language_info": {
   "codemirror_mode": {
    "name": "ipython",
    "version": 3
   },
   "file_extension": ".py",
   "mimetype": "text/x-python",
   "name": "python",
   "nbconvert_exporter": "python",
   "pygments_lexer": "ipython3",
   "version": "3.9.5"
  }
 },
 "nbformat": 4,
 "nbformat_minor": 5
}
